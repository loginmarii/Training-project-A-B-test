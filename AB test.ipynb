{
  "cells": [
    {
      "cell_type": "markdown",
      "id": "e01e5ec9",
      "metadata": {
        "id": "e01e5ec9"
      },
      "source": [
        "### `chat_id ` из Телеграма:"
      ]
    },
    {
      "cell_type": "code",
      "source": [
        "1676035524"
      ],
      "metadata": {
        "id": "Of7L1OK6jEKT"
      },
      "id": "Of7L1OK6jEKT",
      "execution_count": null,
      "outputs": []
    },
    {
      "cell_type": "markdown",
      "id": "1fb036f5",
      "metadata": {
        "id": "1fb036f5"
      },
      "source": [
        "------------------"
      ]
    },
    {
      "cell_type": "markdown",
      "id": "d8c6f14f",
      "metadata": {
        "id": "d8c6f14f"
      },
      "source": [
        "##  <ins>Задание 1.</ins>"
      ]
    },
    {
      "cell_type": "markdown",
      "source": [
        "### 0. Запосить у бота в Телеграме условие командой `/get_project1_desc`."
      ],
      "metadata": {
        "id": "cMi1ZWvej6zB"
      },
      "id": "cMi1ZWvej6zB"
    },
    {
      "cell_type": "markdown",
      "id": "0dd4c840",
      "metadata": {
        "id": "0dd4c840"
      },
      "source": [
        "### 1. Необходимо выбрать метрику и привести аргументацию."
      ]
    },
    {
      "cell_type": "code",
      "source": [
        "import pandas as pd\n",
        "import scipy\n",
        "import numpy as np\n",
        "from scipy.stats import anderson_ksamp\n",
        "from statsmodels.stats.proportion import proportions_ztest\n",
        "from scipy.stats import ttest_ind\n",
        "from scipy.stats import pearsonr\n",
        "import seaborn as sns"
      ],
      "metadata": {
        "id": "vG7kmtMEjHOU"
      },
      "id": "vG7kmtMEjHOU",
      "execution_count": null,
      "outputs": []
    },
    {
      "cell_type": "code",
      "source": [
        "df = pd.read_csv('hist_telesales.csv')\n",
        "df.head(20)"
      ],
      "metadata": {
        "colab": {
          "base_uri": "https://localhost:8080/",
          "height": 676
        },
        "id": "s77Kx8fERc8I",
        "outputId": "d8db63c8-280e-43cc-c2c5-db1ab7959ec7"
      },
      "id": "s77Kx8fERc8I",
      "execution_count": null,
      "outputs": [
        {
          "output_type": "execute_result",
          "data": {
            "text/plain": [
              "    ID  Флаг дозвона  Флаг продажи  Расходы    PV   NPV\n",
              "0    0             1             0       90     0   -90\n",
              "1    1             0             0        5     0    -5\n",
              "2    2             0             0       68     0   -68\n",
              "3    3             1             0       22     0   -22\n",
              "4    4             1             0       22     0   -22\n",
              "5    5             1             1      367  2397  2030\n",
              "6    6             1             1       49  1213  1164\n",
              "7    7             0             0       26     0   -26\n",
              "8    8             0             0       35     0   -35\n",
              "9    9             0             0       61     0   -61\n",
              "10  10             1             0      161     0  -161\n",
              "11  11             0             0       30     0   -30\n",
              "12  12             0             0       27     0   -27\n",
              "13  13             1             0        6     0    -6\n",
              "14  14             1             1      493  1987  1494\n",
              "15  15             1             0      157     0  -157\n",
              "16  16             1             0      143     0  -143\n",
              "17  17             1             0      106     0  -106\n",
              "18  18             1             0       51     0   -51\n",
              "19  19             1             1      183  1536  1353"
            ],
            "text/html": [
              "\n",
              "  <div id=\"df-7e31d1fd-cb9d-4aef-b185-2b2121faad2b\">\n",
              "    <div class=\"colab-df-container\">\n",
              "      <div>\n",
              "<style scoped>\n",
              "    .dataframe tbody tr th:only-of-type {\n",
              "        vertical-align: middle;\n",
              "    }\n",
              "\n",
              "    .dataframe tbody tr th {\n",
              "        vertical-align: top;\n",
              "    }\n",
              "\n",
              "    .dataframe thead th {\n",
              "        text-align: right;\n",
              "    }\n",
              "</style>\n",
              "<table border=\"1\" class=\"dataframe\">\n",
              "  <thead>\n",
              "    <tr style=\"text-align: right;\">\n",
              "      <th></th>\n",
              "      <th>ID</th>\n",
              "      <th>Флаг дозвона</th>\n",
              "      <th>Флаг продажи</th>\n",
              "      <th>Расходы</th>\n",
              "      <th>PV</th>\n",
              "      <th>NPV</th>\n",
              "    </tr>\n",
              "  </thead>\n",
              "  <tbody>\n",
              "    <tr>\n",
              "      <th>0</th>\n",
              "      <td>0</td>\n",
              "      <td>1</td>\n",
              "      <td>0</td>\n",
              "      <td>90</td>\n",
              "      <td>0</td>\n",
              "      <td>-90</td>\n",
              "    </tr>\n",
              "    <tr>\n",
              "      <th>1</th>\n",
              "      <td>1</td>\n",
              "      <td>0</td>\n",
              "      <td>0</td>\n",
              "      <td>5</td>\n",
              "      <td>0</td>\n",
              "      <td>-5</td>\n",
              "    </tr>\n",
              "    <tr>\n",
              "      <th>2</th>\n",
              "      <td>2</td>\n",
              "      <td>0</td>\n",
              "      <td>0</td>\n",
              "      <td>68</td>\n",
              "      <td>0</td>\n",
              "      <td>-68</td>\n",
              "    </tr>\n",
              "    <tr>\n",
              "      <th>3</th>\n",
              "      <td>3</td>\n",
              "      <td>1</td>\n",
              "      <td>0</td>\n",
              "      <td>22</td>\n",
              "      <td>0</td>\n",
              "      <td>-22</td>\n",
              "    </tr>\n",
              "    <tr>\n",
              "      <th>4</th>\n",
              "      <td>4</td>\n",
              "      <td>1</td>\n",
              "      <td>0</td>\n",
              "      <td>22</td>\n",
              "      <td>0</td>\n",
              "      <td>-22</td>\n",
              "    </tr>\n",
              "    <tr>\n",
              "      <th>5</th>\n",
              "      <td>5</td>\n",
              "      <td>1</td>\n",
              "      <td>1</td>\n",
              "      <td>367</td>\n",
              "      <td>2397</td>\n",
              "      <td>2030</td>\n",
              "    </tr>\n",
              "    <tr>\n",
              "      <th>6</th>\n",
              "      <td>6</td>\n",
              "      <td>1</td>\n",
              "      <td>1</td>\n",
              "      <td>49</td>\n",
              "      <td>1213</td>\n",
              "      <td>1164</td>\n",
              "    </tr>\n",
              "    <tr>\n",
              "      <th>7</th>\n",
              "      <td>7</td>\n",
              "      <td>0</td>\n",
              "      <td>0</td>\n",
              "      <td>26</td>\n",
              "      <td>0</td>\n",
              "      <td>-26</td>\n",
              "    </tr>\n",
              "    <tr>\n",
              "      <th>8</th>\n",
              "      <td>8</td>\n",
              "      <td>0</td>\n",
              "      <td>0</td>\n",
              "      <td>35</td>\n",
              "      <td>0</td>\n",
              "      <td>-35</td>\n",
              "    </tr>\n",
              "    <tr>\n",
              "      <th>9</th>\n",
              "      <td>9</td>\n",
              "      <td>0</td>\n",
              "      <td>0</td>\n",
              "      <td>61</td>\n",
              "      <td>0</td>\n",
              "      <td>-61</td>\n",
              "    </tr>\n",
              "    <tr>\n",
              "      <th>10</th>\n",
              "      <td>10</td>\n",
              "      <td>1</td>\n",
              "      <td>0</td>\n",
              "      <td>161</td>\n",
              "      <td>0</td>\n",
              "      <td>-161</td>\n",
              "    </tr>\n",
              "    <tr>\n",
              "      <th>11</th>\n",
              "      <td>11</td>\n",
              "      <td>0</td>\n",
              "      <td>0</td>\n",
              "      <td>30</td>\n",
              "      <td>0</td>\n",
              "      <td>-30</td>\n",
              "    </tr>\n",
              "    <tr>\n",
              "      <th>12</th>\n",
              "      <td>12</td>\n",
              "      <td>0</td>\n",
              "      <td>0</td>\n",
              "      <td>27</td>\n",
              "      <td>0</td>\n",
              "      <td>-27</td>\n",
              "    </tr>\n",
              "    <tr>\n",
              "      <th>13</th>\n",
              "      <td>13</td>\n",
              "      <td>1</td>\n",
              "      <td>0</td>\n",
              "      <td>6</td>\n",
              "      <td>0</td>\n",
              "      <td>-6</td>\n",
              "    </tr>\n",
              "    <tr>\n",
              "      <th>14</th>\n",
              "      <td>14</td>\n",
              "      <td>1</td>\n",
              "      <td>1</td>\n",
              "      <td>493</td>\n",
              "      <td>1987</td>\n",
              "      <td>1494</td>\n",
              "    </tr>\n",
              "    <tr>\n",
              "      <th>15</th>\n",
              "      <td>15</td>\n",
              "      <td>1</td>\n",
              "      <td>0</td>\n",
              "      <td>157</td>\n",
              "      <td>0</td>\n",
              "      <td>-157</td>\n",
              "    </tr>\n",
              "    <tr>\n",
              "      <th>16</th>\n",
              "      <td>16</td>\n",
              "      <td>1</td>\n",
              "      <td>0</td>\n",
              "      <td>143</td>\n",
              "      <td>0</td>\n",
              "      <td>-143</td>\n",
              "    </tr>\n",
              "    <tr>\n",
              "      <th>17</th>\n",
              "      <td>17</td>\n",
              "      <td>1</td>\n",
              "      <td>0</td>\n",
              "      <td>106</td>\n",
              "      <td>0</td>\n",
              "      <td>-106</td>\n",
              "    </tr>\n",
              "    <tr>\n",
              "      <th>18</th>\n",
              "      <td>18</td>\n",
              "      <td>1</td>\n",
              "      <td>0</td>\n",
              "      <td>51</td>\n",
              "      <td>0</td>\n",
              "      <td>-51</td>\n",
              "    </tr>\n",
              "    <tr>\n",
              "      <th>19</th>\n",
              "      <td>19</td>\n",
              "      <td>1</td>\n",
              "      <td>1</td>\n",
              "      <td>183</td>\n",
              "      <td>1536</td>\n",
              "      <td>1353</td>\n",
              "    </tr>\n",
              "  </tbody>\n",
              "</table>\n",
              "</div>\n",
              "      <button class=\"colab-df-convert\" onclick=\"convertToInteractive('df-7e31d1fd-cb9d-4aef-b185-2b2121faad2b')\"\n",
              "              title=\"Convert this dataframe to an interactive table.\"\n",
              "              style=\"display:none;\">\n",
              "        \n",
              "  <svg xmlns=\"http://www.w3.org/2000/svg\" height=\"24px\"viewBox=\"0 0 24 24\"\n",
              "       width=\"24px\">\n",
              "    <path d=\"M0 0h24v24H0V0z\" fill=\"none\"/>\n",
              "    <path d=\"M18.56 5.44l.94 2.06.94-2.06 2.06-.94-2.06-.94-.94-2.06-.94 2.06-2.06.94zm-11 1L8.5 8.5l.94-2.06 2.06-.94-2.06-.94L8.5 2.5l-.94 2.06-2.06.94zm10 10l.94 2.06.94-2.06 2.06-.94-2.06-.94-.94-2.06-.94 2.06-2.06.94z\"/><path d=\"M17.41 7.96l-1.37-1.37c-.4-.4-.92-.59-1.43-.59-.52 0-1.04.2-1.43.59L10.3 9.45l-7.72 7.72c-.78.78-.78 2.05 0 2.83L4 21.41c.39.39.9.59 1.41.59.51 0 1.02-.2 1.41-.59l7.78-7.78 2.81-2.81c.8-.78.8-2.07 0-2.86zM5.41 20L4 18.59l7.72-7.72 1.47 1.35L5.41 20z\"/>\n",
              "  </svg>\n",
              "      </button>\n",
              "      \n",
              "  <style>\n",
              "    .colab-df-container {\n",
              "      display:flex;\n",
              "      flex-wrap:wrap;\n",
              "      gap: 12px;\n",
              "    }\n",
              "\n",
              "    .colab-df-convert {\n",
              "      background-color: #E8F0FE;\n",
              "      border: none;\n",
              "      border-radius: 50%;\n",
              "      cursor: pointer;\n",
              "      display: none;\n",
              "      fill: #1967D2;\n",
              "      height: 32px;\n",
              "      padding: 0 0 0 0;\n",
              "      width: 32px;\n",
              "    }\n",
              "\n",
              "    .colab-df-convert:hover {\n",
              "      background-color: #E2EBFA;\n",
              "      box-shadow: 0px 1px 2px rgba(60, 64, 67, 0.3), 0px 1px 3px 1px rgba(60, 64, 67, 0.15);\n",
              "      fill: #174EA6;\n",
              "    }\n",
              "\n",
              "    [theme=dark] .colab-df-convert {\n",
              "      background-color: #3B4455;\n",
              "      fill: #D2E3FC;\n",
              "    }\n",
              "\n",
              "    [theme=dark] .colab-df-convert:hover {\n",
              "      background-color: #434B5C;\n",
              "      box-shadow: 0px 1px 3px 1px rgba(0, 0, 0, 0.15);\n",
              "      filter: drop-shadow(0px 1px 2px rgba(0, 0, 0, 0.3));\n",
              "      fill: #FFFFFF;\n",
              "    }\n",
              "  </style>\n",
              "\n",
              "      <script>\n",
              "        const buttonEl =\n",
              "          document.querySelector('#df-7e31d1fd-cb9d-4aef-b185-2b2121faad2b button.colab-df-convert');\n",
              "        buttonEl.style.display =\n",
              "          google.colab.kernel.accessAllowed ? 'block' : 'none';\n",
              "\n",
              "        async function convertToInteractive(key) {\n",
              "          const element = document.querySelector('#df-7e31d1fd-cb9d-4aef-b185-2b2121faad2b');\n",
              "          const dataTable =\n",
              "            await google.colab.kernel.invokeFunction('convertToInteractive',\n",
              "                                                     [key], {});\n",
              "          if (!dataTable) return;\n",
              "\n",
              "          const docLinkHtml = 'Like what you see? Visit the ' +\n",
              "            '<a target=\"_blank\" href=https://colab.research.google.com/notebooks/data_table.ipynb>data table notebook</a>'\n",
              "            + ' to learn more about interactive tables.';\n",
              "          element.innerHTML = '';\n",
              "          dataTable['output_type'] = 'display_data';\n",
              "          await google.colab.output.renderOutput(dataTable, element);\n",
              "          const docLink = document.createElement('div');\n",
              "          docLink.innerHTML = docLinkHtml;\n",
              "          element.appendChild(docLink);\n",
              "        }\n",
              "      </script>\n",
              "    </div>\n",
              "  </div>\n",
              "  "
            ]
          },
          "metadata": {},
          "execution_count": 3
        }
      ]
    },
    {
      "cell_type": "markdown",
      "source": [
        "Скрипт не влияет на вероятность дозвона. \\\\\n",
        "PV по заданию слишком долго созревающая метрика. \\\\\n",
        "NPV = PV - Расходы, поэтому тоже долго созревает. \\\\\n",
        "Увеличенные расходы могут означать как успешность скрипта (расходы на вознаграждение оператора), так и его неуспешность (длительный разговор, необязательно окончившийся продажей). \\\\\n",
        "Поэтому в качестве ключевой метрики выбираем продажу."
      ],
      "metadata": {
        "id": "0Js-9oOSmUV7"
      },
      "id": "0Js-9oOSmUV7"
    },
    {
      "cell_type": "markdown",
      "id": "b644cd0a",
      "metadata": {
        "id": "b644cd0a"
      },
      "source": [
        "### 2. Альтернатива в критерии."
      ]
    },
    {
      "cell_type": "markdown",
      "source": [
        "Вероятность продажи выше во втором варианте скрипта (правосторонняя альтернатива). \\\\\n",
        "Вероятность продажи = количество продаж / количество звонков"
      ],
      "metadata": {
        "id": "EFGBWb5bpreh"
      },
      "id": "EFGBWb5bpreh"
    },
    {
      "cell_type": "markdown",
      "id": "727aefc4",
      "metadata": {
        "id": "727aefc4"
      },
      "source": [
        "### 3.1. Каков размер выборки? Привести аргументацию и написать как получилось то или иное число."
      ]
    },
    {
      "cell_type": "code",
      "source": [
        "p = df[\"Флаг продажи\"].mean()\n",
        "MDE = 0.08 * p\n",
        "z1 = scipy.stats.norm.ppf(0.95, loc=0, scale=1)\n",
        "z2 = scipy.stats.norm.ppf(0.2, loc=0, scale=1)\n",
        "k = 0.5\n",
        "N = (p * (1-p) * (z1 - z2) ** 2) / (k * MDE ** 2)\n",
        "print('p =', p, '\\nk = 0.5\\nMDE =', MDE, '\\nz_(1-alpha) =', z1, '\\nz_beta =', z2, '\\nN =', N.round())"
      ],
      "metadata": {
        "id": "KFMpcB0mjJXN",
        "colab": {
          "base_uri": "https://localhost:8080/"
        },
        "outputId": "8837ee51-635f-4dc3-a9c9-0585f655673d"
      },
      "id": "KFMpcB0mjJXN",
      "execution_count": null,
      "outputs": [
        {
          "output_type": "stream",
          "name": "stdout",
          "text": [
            "p = 0.3021715330995967 \n",
            "k = 0.5\n",
            "MDE = 0.024173722647967737 \n",
            "z_(1-alpha) = 1.6448536269514722 \n",
            "z_beta = -0.8416212335729142 \n",
            "N = 4462.0\n"
          ]
        }
      ]
    },
    {
      "cell_type": "markdown",
      "id": "8df8ee73",
      "metadata": {
        "id": "8df8ee73"
      },
      "source": [
        "### 3.2. Необходимо запросить у бота в Телеграме выборку полученного размера командой `/get_project1_sample {размер выборки}` и вписать <ins>код выборки</ins>:"
      ]
    },
    {
      "cell_type": "code",
      "source": [
        "24808"
      ],
      "metadata": {
        "id": "9vCrM3wcjM0H"
      },
      "id": "9vCrM3wcjM0H",
      "execution_count": null,
      "outputs": []
    },
    {
      "cell_type": "markdown",
      "id": "22e2d9b0",
      "metadata": {
        "id": "22e2d9b0"
      },
      "source": [
        "### 4. Принятие решения. Расписать подробно с аргументами."
      ]
    },
    {
      "cell_type": "code",
      "source": [
        "dfc = pd.read_csv('Контроль.csv')\n",
        "dft = pd.read_csv('Тест.csv')\n",
        "x_success = dfc[\"Флаг продажи\"].sum()\n",
        "x_cnt = dfc[\"Флаг продажи\"].count()\n",
        "y_success = dft[\"Флаг продажи\"].sum()\n",
        "y_cnt = dft[\"Флаг продажи\"].count()\n",
        "print(x_success/x_cnt, y_success/y_cnt)\n",
        "p_value = proportions_ztest([x_success, y_success], [x_cnt, y_cnt])[1] / 2\n",
        "if (p_value < 0.05) and (x_success/x_cnt < y_success/y_cnt):\n",
        "  print('Отклоняем нулевую гипотезу')\n",
        "else:\n",
        "  print('Не отклоняем нулевую гипотезу')"
      ],
      "metadata": {
        "colab": {
          "base_uri": "https://localhost:8080/"
        },
        "id": "xNrjaUJ5D1cg",
        "outputId": "5c554130-4ea8-4693-e4aa-ae9d7fb8efb7"
      },
      "id": "xNrjaUJ5D1cg",
      "execution_count": null,
      "outputs": [
        {
          "output_type": "stream",
          "name": "stdout",
          "text": [
            "0.29762438368444644 0.32227700582698343\n",
            "Отклоняем нулевую гипотезу\n"
          ]
        }
      ]
    },
    {
      "cell_type": "markdown",
      "source": [
        "Таким образом, вероятность продажи выше во втором варианте скрипта. Тест успешен."
      ],
      "metadata": {
        "id": "OUjOadeEHX9N"
      },
      "id": "OUjOadeEHX9N"
    },
    {
      "cell_type": "markdown",
      "id": "f9e15111",
      "metadata": {
        "id": "f9e15111"
      },
      "source": [
        "------------------"
      ]
    },
    {
      "cell_type": "markdown",
      "id": "7ea196b1",
      "metadata": {
        "id": "7ea196b1"
      },
      "source": [
        "##  <ins>Задание 2.</ins>"
      ]
    },
    {
      "cell_type": "markdown",
      "source": [
        "### 0. Запосить у бота в Телеграме условие командой `/get_project2_desc`."
      ],
      "metadata": {
        "id": "M0mI4jfTkCk6"
      },
      "id": "M0mI4jfTkCk6"
    },
    {
      "cell_type": "markdown",
      "id": "e4691844",
      "metadata": {
        "id": "e4691844"
      },
      "source": [
        "### 1. Необходимо выбрать метрику и привести аргументацию."
      ]
    },
    {
      "cell_type": "code",
      "source": [
        "df2 = pd.read_csv('hist_credit_card.csv')\n",
        "df2.head(20)"
      ],
      "metadata": {
        "id": "Q3Zae2tSjQFW",
        "colab": {
          "base_uri": "https://localhost:8080/",
          "height": 676
        },
        "outputId": "261fe97b-7caf-4e43-b150-f5472ed0faaa"
      },
      "id": "Q3Zae2tSjQFW",
      "execution_count": null,
      "outputs": [
        {
          "output_type": "execute_result",
          "data": {
            "text/plain": [
              "    ID  Возраст  Доход клиента  Вероятность банкротства  \\\n",
              "0    0       19   21620.835463                 0.138061   \n",
              "1    1       27   24897.990863                 0.035508   \n",
              "2    2       50   23989.526947                 0.098793   \n",
              "3    3       18   38442.409756                 0.365661   \n",
              "4    4       24   21291.521612                 0.036909   \n",
              "5    5       19   22957.947147                 0.021514   \n",
              "6    6       27   22217.477344                 0.319460   \n",
              "7    7       46   29584.430233                 0.324886   \n",
              "8    8       27   21730.692059                 0.254344   \n",
              "9    9       41   34909.175512                 0.017871   \n",
              "10  10       19   20070.675742                 0.310116   \n",
              "11  11       62   26319.381280                 0.122912   \n",
              "12  12       21   35019.724711                 0.215994   \n",
              "13  13       23   31543.282487                 0.088342   \n",
              "14  14       36   21447.479237                 0.057918   \n",
              "15  15       62   20041.107515                 0.037719   \n",
              "16  16       53   32740.067575                 0.082032   \n",
              "17  17       72   57460.522615                 0.277904   \n",
              "18  18       53   29940.639278                 0.108116   \n",
              "19  19       31   22499.041437                 0.032733   \n",
              "\n",
              "    Флаг утилизации счёта  Расходы  PV КК  PV услуги    NPV  \n",
              "0                       0      102      0          0   -102  \n",
              "1                       1      409  11686       1754  13031  \n",
              "2                       0       16      0          0    -16  \n",
              "3                       1      788  13738       1578  14528  \n",
              "4                       1     1048   6594       2213   7759  \n",
              "5                       1      110  33316       1692  34898  \n",
              "6                       0       57      0          0    -57  \n",
              "7                       1      371   5859       2529   8017  \n",
              "8                       1      712   9981       3758  13027  \n",
              "9                       1      131   8794       5315  13978  \n",
              "10                      1      124  14781       1431  16088  \n",
              "11                      1      392  13269       4329  17206  \n",
              "12                      0       29      0          0    -29  \n",
              "13                      0       44      0          0    -44  \n",
              "14                      1      165   5779       3528   9142  \n",
              "15                      1      210   6318       3116   9224  \n",
              "16                      1     1660   6541       1497   6378  \n",
              "17                      1     1282  11107       1416  11241  \n",
              "18                      1      442   5662       1576   6796  \n",
              "19                      0       90      0          0    -90  "
            ],
            "text/html": [
              "\n",
              "  <div id=\"df-7fe97d71-82ed-4097-8252-a16732ae8356\">\n",
              "    <div class=\"colab-df-container\">\n",
              "      <div>\n",
              "<style scoped>\n",
              "    .dataframe tbody tr th:only-of-type {\n",
              "        vertical-align: middle;\n",
              "    }\n",
              "\n",
              "    .dataframe tbody tr th {\n",
              "        vertical-align: top;\n",
              "    }\n",
              "\n",
              "    .dataframe thead th {\n",
              "        text-align: right;\n",
              "    }\n",
              "</style>\n",
              "<table border=\"1\" class=\"dataframe\">\n",
              "  <thead>\n",
              "    <tr style=\"text-align: right;\">\n",
              "      <th></th>\n",
              "      <th>ID</th>\n",
              "      <th>Возраст</th>\n",
              "      <th>Доход клиента</th>\n",
              "      <th>Вероятность банкротства</th>\n",
              "      <th>Флаг утилизации счёта</th>\n",
              "      <th>Расходы</th>\n",
              "      <th>PV КК</th>\n",
              "      <th>PV услуги</th>\n",
              "      <th>NPV</th>\n",
              "    </tr>\n",
              "  </thead>\n",
              "  <tbody>\n",
              "    <tr>\n",
              "      <th>0</th>\n",
              "      <td>0</td>\n",
              "      <td>19</td>\n",
              "      <td>21620.835463</td>\n",
              "      <td>0.138061</td>\n",
              "      <td>0</td>\n",
              "      <td>102</td>\n",
              "      <td>0</td>\n",
              "      <td>0</td>\n",
              "      <td>-102</td>\n",
              "    </tr>\n",
              "    <tr>\n",
              "      <th>1</th>\n",
              "      <td>1</td>\n",
              "      <td>27</td>\n",
              "      <td>24897.990863</td>\n",
              "      <td>0.035508</td>\n",
              "      <td>1</td>\n",
              "      <td>409</td>\n",
              "      <td>11686</td>\n",
              "      <td>1754</td>\n",
              "      <td>13031</td>\n",
              "    </tr>\n",
              "    <tr>\n",
              "      <th>2</th>\n",
              "      <td>2</td>\n",
              "      <td>50</td>\n",
              "      <td>23989.526947</td>\n",
              "      <td>0.098793</td>\n",
              "      <td>0</td>\n",
              "      <td>16</td>\n",
              "      <td>0</td>\n",
              "      <td>0</td>\n",
              "      <td>-16</td>\n",
              "    </tr>\n",
              "    <tr>\n",
              "      <th>3</th>\n",
              "      <td>3</td>\n",
              "      <td>18</td>\n",
              "      <td>38442.409756</td>\n",
              "      <td>0.365661</td>\n",
              "      <td>1</td>\n",
              "      <td>788</td>\n",
              "      <td>13738</td>\n",
              "      <td>1578</td>\n",
              "      <td>14528</td>\n",
              "    </tr>\n",
              "    <tr>\n",
              "      <th>4</th>\n",
              "      <td>4</td>\n",
              "      <td>24</td>\n",
              "      <td>21291.521612</td>\n",
              "      <td>0.036909</td>\n",
              "      <td>1</td>\n",
              "      <td>1048</td>\n",
              "      <td>6594</td>\n",
              "      <td>2213</td>\n",
              "      <td>7759</td>\n",
              "    </tr>\n",
              "    <tr>\n",
              "      <th>5</th>\n",
              "      <td>5</td>\n",
              "      <td>19</td>\n",
              "      <td>22957.947147</td>\n",
              "      <td>0.021514</td>\n",
              "      <td>1</td>\n",
              "      <td>110</td>\n",
              "      <td>33316</td>\n",
              "      <td>1692</td>\n",
              "      <td>34898</td>\n",
              "    </tr>\n",
              "    <tr>\n",
              "      <th>6</th>\n",
              "      <td>6</td>\n",
              "      <td>27</td>\n",
              "      <td>22217.477344</td>\n",
              "      <td>0.319460</td>\n",
              "      <td>0</td>\n",
              "      <td>57</td>\n",
              "      <td>0</td>\n",
              "      <td>0</td>\n",
              "      <td>-57</td>\n",
              "    </tr>\n",
              "    <tr>\n",
              "      <th>7</th>\n",
              "      <td>7</td>\n",
              "      <td>46</td>\n",
              "      <td>29584.430233</td>\n",
              "      <td>0.324886</td>\n",
              "      <td>1</td>\n",
              "      <td>371</td>\n",
              "      <td>5859</td>\n",
              "      <td>2529</td>\n",
              "      <td>8017</td>\n",
              "    </tr>\n",
              "    <tr>\n",
              "      <th>8</th>\n",
              "      <td>8</td>\n",
              "      <td>27</td>\n",
              "      <td>21730.692059</td>\n",
              "      <td>0.254344</td>\n",
              "      <td>1</td>\n",
              "      <td>712</td>\n",
              "      <td>9981</td>\n",
              "      <td>3758</td>\n",
              "      <td>13027</td>\n",
              "    </tr>\n",
              "    <tr>\n",
              "      <th>9</th>\n",
              "      <td>9</td>\n",
              "      <td>41</td>\n",
              "      <td>34909.175512</td>\n",
              "      <td>0.017871</td>\n",
              "      <td>1</td>\n",
              "      <td>131</td>\n",
              "      <td>8794</td>\n",
              "      <td>5315</td>\n",
              "      <td>13978</td>\n",
              "    </tr>\n",
              "    <tr>\n",
              "      <th>10</th>\n",
              "      <td>10</td>\n",
              "      <td>19</td>\n",
              "      <td>20070.675742</td>\n",
              "      <td>0.310116</td>\n",
              "      <td>1</td>\n",
              "      <td>124</td>\n",
              "      <td>14781</td>\n",
              "      <td>1431</td>\n",
              "      <td>16088</td>\n",
              "    </tr>\n",
              "    <tr>\n",
              "      <th>11</th>\n",
              "      <td>11</td>\n",
              "      <td>62</td>\n",
              "      <td>26319.381280</td>\n",
              "      <td>0.122912</td>\n",
              "      <td>1</td>\n",
              "      <td>392</td>\n",
              "      <td>13269</td>\n",
              "      <td>4329</td>\n",
              "      <td>17206</td>\n",
              "    </tr>\n",
              "    <tr>\n",
              "      <th>12</th>\n",
              "      <td>12</td>\n",
              "      <td>21</td>\n",
              "      <td>35019.724711</td>\n",
              "      <td>0.215994</td>\n",
              "      <td>0</td>\n",
              "      <td>29</td>\n",
              "      <td>0</td>\n",
              "      <td>0</td>\n",
              "      <td>-29</td>\n",
              "    </tr>\n",
              "    <tr>\n",
              "      <th>13</th>\n",
              "      <td>13</td>\n",
              "      <td>23</td>\n",
              "      <td>31543.282487</td>\n",
              "      <td>0.088342</td>\n",
              "      <td>0</td>\n",
              "      <td>44</td>\n",
              "      <td>0</td>\n",
              "      <td>0</td>\n",
              "      <td>-44</td>\n",
              "    </tr>\n",
              "    <tr>\n",
              "      <th>14</th>\n",
              "      <td>14</td>\n",
              "      <td>36</td>\n",
              "      <td>21447.479237</td>\n",
              "      <td>0.057918</td>\n",
              "      <td>1</td>\n",
              "      <td>165</td>\n",
              "      <td>5779</td>\n",
              "      <td>3528</td>\n",
              "      <td>9142</td>\n",
              "    </tr>\n",
              "    <tr>\n",
              "      <th>15</th>\n",
              "      <td>15</td>\n",
              "      <td>62</td>\n",
              "      <td>20041.107515</td>\n",
              "      <td>0.037719</td>\n",
              "      <td>1</td>\n",
              "      <td>210</td>\n",
              "      <td>6318</td>\n",
              "      <td>3116</td>\n",
              "      <td>9224</td>\n",
              "    </tr>\n",
              "    <tr>\n",
              "      <th>16</th>\n",
              "      <td>16</td>\n",
              "      <td>53</td>\n",
              "      <td>32740.067575</td>\n",
              "      <td>0.082032</td>\n",
              "      <td>1</td>\n",
              "      <td>1660</td>\n",
              "      <td>6541</td>\n",
              "      <td>1497</td>\n",
              "      <td>6378</td>\n",
              "    </tr>\n",
              "    <tr>\n",
              "      <th>17</th>\n",
              "      <td>17</td>\n",
              "      <td>72</td>\n",
              "      <td>57460.522615</td>\n",
              "      <td>0.277904</td>\n",
              "      <td>1</td>\n",
              "      <td>1282</td>\n",
              "      <td>11107</td>\n",
              "      <td>1416</td>\n",
              "      <td>11241</td>\n",
              "    </tr>\n",
              "    <tr>\n",
              "      <th>18</th>\n",
              "      <td>18</td>\n",
              "      <td>53</td>\n",
              "      <td>29940.639278</td>\n",
              "      <td>0.108116</td>\n",
              "      <td>1</td>\n",
              "      <td>442</td>\n",
              "      <td>5662</td>\n",
              "      <td>1576</td>\n",
              "      <td>6796</td>\n",
              "    </tr>\n",
              "    <tr>\n",
              "      <th>19</th>\n",
              "      <td>19</td>\n",
              "      <td>31</td>\n",
              "      <td>22499.041437</td>\n",
              "      <td>0.032733</td>\n",
              "      <td>0</td>\n",
              "      <td>90</td>\n",
              "      <td>0</td>\n",
              "      <td>0</td>\n",
              "      <td>-90</td>\n",
              "    </tr>\n",
              "  </tbody>\n",
              "</table>\n",
              "</div>\n",
              "      <button class=\"colab-df-convert\" onclick=\"convertToInteractive('df-7fe97d71-82ed-4097-8252-a16732ae8356')\"\n",
              "              title=\"Convert this dataframe to an interactive table.\"\n",
              "              style=\"display:none;\">\n",
              "        \n",
              "  <svg xmlns=\"http://www.w3.org/2000/svg\" height=\"24px\"viewBox=\"0 0 24 24\"\n",
              "       width=\"24px\">\n",
              "    <path d=\"M0 0h24v24H0V0z\" fill=\"none\"/>\n",
              "    <path d=\"M18.56 5.44l.94 2.06.94-2.06 2.06-.94-2.06-.94-.94-2.06-.94 2.06-2.06.94zm-11 1L8.5 8.5l.94-2.06 2.06-.94-2.06-.94L8.5 2.5l-.94 2.06-2.06.94zm10 10l.94 2.06.94-2.06 2.06-.94-2.06-.94-.94-2.06-.94 2.06-2.06.94z\"/><path d=\"M17.41 7.96l-1.37-1.37c-.4-.4-.92-.59-1.43-.59-.52 0-1.04.2-1.43.59L10.3 9.45l-7.72 7.72c-.78.78-.78 2.05 0 2.83L4 21.41c.39.39.9.59 1.41.59.51 0 1.02-.2 1.41-.59l7.78-7.78 2.81-2.81c.8-.78.8-2.07 0-2.86zM5.41 20L4 18.59l7.72-7.72 1.47 1.35L5.41 20z\"/>\n",
              "  </svg>\n",
              "      </button>\n",
              "      \n",
              "  <style>\n",
              "    .colab-df-container {\n",
              "      display:flex;\n",
              "      flex-wrap:wrap;\n",
              "      gap: 12px;\n",
              "    }\n",
              "\n",
              "    .colab-df-convert {\n",
              "      background-color: #E8F0FE;\n",
              "      border: none;\n",
              "      border-radius: 50%;\n",
              "      cursor: pointer;\n",
              "      display: none;\n",
              "      fill: #1967D2;\n",
              "      height: 32px;\n",
              "      padding: 0 0 0 0;\n",
              "      width: 32px;\n",
              "    }\n",
              "\n",
              "    .colab-df-convert:hover {\n",
              "      background-color: #E2EBFA;\n",
              "      box-shadow: 0px 1px 2px rgba(60, 64, 67, 0.3), 0px 1px 3px 1px rgba(60, 64, 67, 0.15);\n",
              "      fill: #174EA6;\n",
              "    }\n",
              "\n",
              "    [theme=dark] .colab-df-convert {\n",
              "      background-color: #3B4455;\n",
              "      fill: #D2E3FC;\n",
              "    }\n",
              "\n",
              "    [theme=dark] .colab-df-convert:hover {\n",
              "      background-color: #434B5C;\n",
              "      box-shadow: 0px 1px 3px 1px rgba(0, 0, 0, 0.15);\n",
              "      filter: drop-shadow(0px 1px 2px rgba(0, 0, 0, 0.3));\n",
              "      fill: #FFFFFF;\n",
              "    }\n",
              "  </style>\n",
              "\n",
              "      <script>\n",
              "        const buttonEl =\n",
              "          document.querySelector('#df-7fe97d71-82ed-4097-8252-a16732ae8356 button.colab-df-convert');\n",
              "        buttonEl.style.display =\n",
              "          google.colab.kernel.accessAllowed ? 'block' : 'none';\n",
              "\n",
              "        async function convertToInteractive(key) {\n",
              "          const element = document.querySelector('#df-7fe97d71-82ed-4097-8252-a16732ae8356');\n",
              "          const dataTable =\n",
              "            await google.colab.kernel.invokeFunction('convertToInteractive',\n",
              "                                                     [key], {});\n",
              "          if (!dataTable) return;\n",
              "\n",
              "          const docLinkHtml = 'Like what you see? Visit the ' +\n",
              "            '<a target=\"_blank\" href=https://colab.research.google.com/notebooks/data_table.ipynb>data table notebook</a>'\n",
              "            + ' to learn more about interactive tables.';\n",
              "          element.innerHTML = '';\n",
              "          dataTable['output_type'] = 'display_data';\n",
              "          await google.colab.output.renderOutput(dataTable, element);\n",
              "          const docLink = document.createElement('div');\n",
              "          docLink.innerHTML = docLinkHtml;\n",
              "          element.appendChild(docLink);\n",
              "        }\n",
              "      </script>\n",
              "    </div>\n",
              "  </div>\n",
              "  "
            ]
          },
          "metadata": {},
          "execution_count": 15
        }
      ]
    },
    {
      "cell_type": "markdown",
      "source": [
        "Скрипт не влияет на возраст, доход клиента, вероятность его банкротства. \\\\\n",
        "Т.к. целью теста является увеличение доходности КК + услуги, то нужно брать общий прогноз дохода с клиента, то есть NPV. Он учитывает как изменение доходов, так и изменение расходов. \\\\\n",
        "Контрольной метрикой может быть PV КК, потому что новый вариант продажи не должен повлиять на экономику основного продукта."
      ],
      "metadata": {
        "id": "5vainGJSL18P"
      },
      "id": "5vainGJSL18P"
    },
    {
      "cell_type": "markdown",
      "id": "e36b594c",
      "metadata": {
        "id": "e36b594c"
      },
      "source": [
        "### 2. Альтернатива в критерии."
      ]
    },
    {
      "cell_type": "markdown",
      "source": [
        "NPV выше при новом агрессивном способе (правосторонняя альтернатива)."
      ],
      "metadata": {
        "id": "pYTdsSK4Ntz1"
      },
      "id": "pYTdsSK4Ntz1"
    },
    {
      "cell_type": "markdown",
      "id": "692b97f3",
      "metadata": {
        "id": "692b97f3"
      },
      "source": [
        "### 3. Нужно выбрать параметр(-ы), влияющий(-ие) на целевую метрику. Привести аргументацию."
      ]
    },
    {
      "cell_type": "code",
      "source": [
        "a = pd.DataFrame([[0 for j in range(9)] for i in range(9)])\n",
        "a.columns = df2.columns\n",
        "x, y = 0, 0\n",
        "for i_name, i_values in df2.items():\n",
        "  for j_name, j_values in df2.items():\n",
        "    a[i_name][y] = pearsonr(i_values, j_values)[0]\n",
        "    y += 1\n",
        "  x += 1\n",
        "  y = 0\n",
        "print(a)\n",
        "sns.heatmap(a)"
      ],
      "metadata": {
        "id": "4bYv6W9ljUEg",
        "colab": {
          "base_uri": "https://localhost:8080/",
          "height": 1000
        },
        "outputId": "d998282a-1f05-42ba-a47f-8f336eca301e"
      },
      "id": "4bYv6W9ljUEg",
      "execution_count": null,
      "outputs": [
        {
          "output_type": "stream",
          "name": "stderr",
          "text": [
            "<ipython-input-11-aeb2425f4f0b>:6: SettingWithCopyWarning: \n",
            "A value is trying to be set on a copy of a slice from a DataFrame\n",
            "\n",
            "See the caveats in the documentation: https://pandas.pydata.org/pandas-docs/stable/user_guide/indexing.html#returning-a-view-versus-a-copy\n",
            "  a[i_name][y] = pearsonr(i_values, j_values)[0]\n"
          ]
        },
        {
          "output_type": "stream",
          "name": "stdout",
          "text": [
            "         ID   Возраст  Доход клиента  Вероятность банкротства  \\\n",
            "0  1.000000 -0.002624       0.004518                 0.001279   \n",
            "1 -0.002624  1.000000       0.001514                -0.004102   \n",
            "2  0.004518  0.001514       1.000000                -0.000882   \n",
            "3  0.001279 -0.004102      -0.000882                 1.000000   \n",
            "4 -0.000964  0.007277       0.000706                -0.215398   \n",
            "5 -0.000077  0.002460       0.001032                -0.099635   \n",
            "6 -0.003181  0.003447      -0.002142                -0.043319   \n",
            "7 -0.005220  0.006117      -0.001937                -0.139128   \n",
            "8 -0.003480  0.003747      -0.002269                -0.049433   \n",
            "\n",
            "   Флаг утилизации счёта   Расходы     PV КК  PV услуги       NPV  \n",
            "0              -0.000964 -0.000077 -0.003181  -0.005220 -0.003480  \n",
            "1               0.007277  0.002460  0.003447   0.006117  0.003747  \n",
            "2               0.000706  0.001032 -0.002142  -0.001937 -0.002269  \n",
            "3              -0.215398 -0.099635 -0.043319  -0.139128 -0.049433  \n",
            "4               1.000000  0.452036  0.204981   0.646524  0.233611  \n",
            "5               0.452036  1.000000  0.090826   0.294538  0.086146  \n",
            "6               0.204981  0.090826  1.000000   0.128742  0.998232  \n",
            "7               0.646524  0.294538  0.128742   1.000000  0.183529  \n",
            "8               0.233611  0.086146  0.998232   0.183529  1.000000  \n"
          ]
        },
        {
          "output_type": "execute_result",
          "data": {
            "text/plain": [
              "<Axes: >"
            ]
          },
          "metadata": {},
          "execution_count": 11
        },
        {
          "output_type": "display_data",
          "data": {
            "text/plain": [
              "<Figure size 640x480 with 2 Axes>"
            ],
            "image/png": "[encoded data removed]"
          },
          "metadata": {}
        }
      ]
    },
    {
      "cell_type": "markdown",
      "source": [
        "На NPV влияют (по убыванию корреляции): \\\\\n",
        "1) PV КК \\\\\n",
        "2) Утилизация счета \\\\\n",
        "3) PV услуги \\\\\n",
        "4) Расходы \\\\\n",
        "5) Вероятность банкротства"
      ],
      "metadata": {
        "id": "-o4AxfH-YGI-"
      },
      "id": "-o4AxfH-YGI-"
    },
    {
      "cell_type": "markdown",
      "id": "9b40ecbb",
      "metadata": {
        "id": "9b40ecbb"
      },
      "source": [
        "### 4.1. Каков размер выборки? Привести аргументацию и написать как получилось то или иное число."
      ]
    },
    {
      "cell_type": "code",
      "source": [
        "p2 = df2[\"NPV\"].mean()\n",
        "sigma2 = df2[\"NPV\"].std()\n",
        "MDE2 = 0.03 * p2\n",
        "z12 = scipy.stats.norm.ppf(0.95, loc=0, scale=1)\n",
        "z22 = scipy.stats.norm.ppf(0.15, loc=0, scale=1)\n",
        "k2 = 0.5\n",
        "N2 = (sigma2 ** 2 * (z12 - z22) ** 2) / (k2 * MDE2 ** 2)\n",
        "print('p =', p2, '\\nsigma =', sigma2, '\\nk = 0.5\\nMDE =', MDE2, '\\nz_(1-alpha) =', z12, '\\nz_beta =', z22, '\\nN =', N2.round())"
      ],
      "metadata": {
        "id": "tk7WBLvmjSnM",
        "colab": {
          "base_uri": "https://localhost:8080/"
        },
        "outputId": "2572ea38-ba01-46d0-f67e-8e78f8354c11"
      },
      "id": "tk7WBLvmjSnM",
      "execution_count": null,
      "outputs": [
        {
          "output_type": "stream",
          "name": "stdout",
          "text": [
            "p = 8560.211885927549 \n",
            "sigma = 21758.627388539626 \n",
            "k = 0.5\n",
            "MDE = 256.8063565778265 \n",
            "z_(1-alpha) = 1.6448536269514722 \n",
            "z_beta = -1.0364333894937898 \n",
            "N = 103221.0\n"
          ]
        }
      ]
    },
    {
      "cell_type": "markdown",
      "id": "b13ea8ee",
      "metadata": {
        "id": "b13ea8ee"
      },
      "source": [
        "### 4.2. Необходимо запросить у бота в Телеграме выборку полученного размера командой `/get_project2_sample {размер выборки}` и вписать <ins>код выборки</ins>:"
      ]
    },
    {
      "cell_type": "code",
      "source": [
        "63221"
      ],
      "metadata": {
        "id": "F5c-oqIBjVJS"
      },
      "id": "F5c-oqIBjVJS",
      "execution_count": null,
      "outputs": []
    },
    {
      "cell_type": "markdown",
      "id": "f6945c8f",
      "metadata": {
        "id": "f6945c8f"
      },
      "source": [
        "### 5. Проверка на однородность, применение критерия. Принятие решения. Расписать подробно с аргументами."
      ]
    },
    {
      "cell_type": "markdown",
      "source": [
        "Гипотеза: выборки однородны \\\\\n",
        "Альтернатива: выборки неоднородны"
      ],
      "metadata": {
        "id": "m1iq9h2s0VPT"
      },
      "id": "m1iq9h2s0VPT"
    },
    {
      "cell_type": "code",
      "source": [
        "dfc2 = pd.read_csv('Контроль.csv')\n",
        "dft2 = pd.read_csv('Тест.csv')\n",
        "statistic02, critical_values02, pvalue02 = anderson_ksamp([dfc2[\"PV КК\"], dft2[\"PV КК\"]])\n",
        "if pvalue02 > 0.02:\n",
        "  print('Выборки неоднородны по PV КК')\n",
        "else:\n",
        "  print('Выборки однородны по PV КК')"
      ],
      "metadata": {
        "id": "LVlEnA4DjWp5",
        "colab": {
          "base_uri": "https://localhost:8080/"
        },
        "outputId": "8c82edd1-8fc6-4c5d-c4bf-2a872b9830e6"
      },
      "id": "LVlEnA4DjWp5",
      "execution_count": null,
      "outputs": [
        {
          "output_type": "stream",
          "name": "stdout",
          "text": [
            "Выборки неоднородны по PV КК\n"
          ]
        }
      ]
    },
    {
      "cell_type": "markdown",
      "source": [
        "Т.к. выборки неоднородны по параметру, сильно влияющему на целевую метрику, то их использовать для теста нельзя. Тест провален."
      ],
      "metadata": {
        "id": "dOC8unI_1-Q0"
      },
      "id": "dOC8unI_1-Q0"
    }
  ],
  "metadata": {
    "kernelspec": {
      "display_name": "Python 3 (ipykernel)",
      "language": "python",
      "name": "python3"
    },
    "language_info": {
      "codemirror_mode": {
        "name": "ipython",
        "version": 3
      },
      "file_extension": ".py",
      "mimetype": "text/x-python",
      "name": "python",
      "nbconvert_exporter": "python",
      "pygments_lexer": "ipython3",
      "version": "3.9.7"
    },
    "colab": {
      "provenance": []
    }
  },
  "nbformat": 4,
  "nbformat_minor": 5
}